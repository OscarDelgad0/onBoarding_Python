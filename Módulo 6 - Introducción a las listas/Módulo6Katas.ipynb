{
 "cells": [
  {
   "cell_type": "markdown",
   "metadata": {},
   "source": [
    "## Ejercicio1: Crear y usar listas de Python"
   ]
  },
  {
   "cell_type": "markdown",
   "metadata": {},
   "source": [
    "En primer lugar, crea una variable denominada planets. Agrega los ocho planetas (sin Plutón) a la lista. A continuación, muestra el número de planetas"
   ]
  },
  {
   "cell_type": "code",
   "execution_count": 1,
   "metadata": {},
   "outputs": [],
   "source": [
    "planetas = ['Mercurio','Venus','Tierra','Marte','Jupiter','Saturno','Neptuno']"
   ]
  },
  {
   "cell_type": "markdown",
   "metadata": {},
   "source": [
    "Agrega a Plutón a la lista que creaste. Luego muestra tanto el número de planetas como el último planeta de la lista."
   ]
  },
  {
   "cell_type": "markdown",
   "metadata": {},
   "source": [
    "- Se añade pluton\n"
   ]
  },
  {
   "cell_type": "code",
   "execution_count": 2,
   "metadata": {},
   "outputs": [],
   "source": [
    "planetas.append('Pluton')"
   ]
  },
  {
   "cell_type": "markdown",
   "metadata": {},
   "source": [
    "- Se imprime el ultimo y el total de planetas\n"
   ]
  },
  {
   "cell_type": "code",
   "execution_count": 3,
   "metadata": {},
   "outputs": [
    {
     "name": "stdout",
     "output_type": "stream",
     "text": [
      "El ultimo planeta es: Pluton y el numero de planetas total son: 8 \n"
     ]
    }
   ],
   "source": [
    "nroPlanetas = len(planetas)\n",
    "\n",
    "print(f'El ultimo planeta es: {planetas[-1]} y el numero de planetas total son: {nroPlanetas} ')"
   ]
  },
  {
   "cell_type": "markdown",
   "metadata": {},
   "source": [
    "## Ejercicio 2: Trabajando con datos de una lista\n",
    "\n",
    "### Usar slices para recuperar partes de una lista\n",
    "\n",
    "- Comienza agregando el código para crear una lista con los planetas."
   ]
  },
  {
   "cell_type": "code",
   "execution_count": 4,
   "metadata": {},
   "outputs": [],
   "source": [
    "# Lista de planetas\n",
    "planetas = ['Mercurio','Venus','Tierra','Marte','Jupiter','Saturno','Neptuno']"
   ]
  },
  {
   "cell_type": "markdown",
   "metadata": {},
   "source": [
    "### Solicita al usuario el nombre de un planeta\n",
    "A continuación, agrega el código para solicitar al usuario un nombre. Debido a que las cadenas distinguen entre mayúsculas y minúsculas en Python, pídale al usuario que use una letra mayúscula para comenzar el nombre del planeta."
   ]
  },
  {
   "cell_type": "code",
   "execution_count": 5,
   "metadata": {},
   "outputs": [],
   "source": [
    "planeta = input('Ingresa el nombre se un problema (Teclea su primer letra en mayusculas)')"
   ]
  },
  {
   "cell_type": "markdown",
   "metadata": {},
   "source": [
    "### Encuentra el planeta en la lista\n",
    "\n",
    "Para determinar qué planetas están más cerca que el que ingresó el usuario, debes encontrar dónde está el planeta en la lista. Puedes utilizar index para realizar esta operación. Agrega el código para encontrar el índice del planeta."
   ]
  },
  {
   "cell_type": "code",
   "execution_count": 6,
   "metadata": {},
   "outputs": [
    {
     "name": "stdout",
     "output_type": "stream",
     "text": [
      "Planeta encontrado!\n"
     ]
    }
   ],
   "source": [
    "if planeta in planeta:\n",
    "    print('Planeta encontrado!')\n",
    "else:\n",
    "    print('Parace que tenemos problemas tecnicos... o el planeta no existe')"
   ]
  },
  {
   "cell_type": "markdown",
   "metadata": {},
   "source": [
    "### Mostrar planetas más cercanos al sol que el que el usuario ingresó\n",
    "Con el índice determinado, ahora puedes agregar el código para mostrar los planetas más cercanos al sol."
   ]
  },
  {
   "cell_type": "code",
   "execution_count": 7,
   "metadata": {},
   "outputs": [
    {
     "name": "stdout",
     "output_type": "stream",
     "text": [
      "Estos son los planetas mas cercanos de Neptuno con respecto al sol: \n",
      "\n",
      "Mercurio\n",
      "Venus\n",
      "Tierra\n",
      "Marte\n",
      "Jupiter\n",
      "Saturno\n",
      "Neptuno\n"
     ]
    }
   ],
   "source": [
    "indiceMostrar = planetas.index(planeta)\n",
    "\n",
    "print(f'Estos son los planetas mas cercanos de {planeta} con respecto al sol: \\n')\n",
    "\n",
    "for item in planetas:\n",
    "    i = planetas.index(item)\n",
    "\n",
    "    if i <= indiceMostrar:\n",
    "        print(planetas[i])\n",
    "    \n",
    "    \n"
   ]
  },
  {
   "cell_type": "markdown",
   "metadata": {},
   "source": [
    "### Solucion rapida"
   ]
  },
  {
   "cell_type": "code",
   "execution_count": 8,
   "metadata": {},
   "outputs": [
    {
     "name": "stdout",
     "output_type": "stream",
     "text": [
      "Estos son los planetas mas cercanos de Neptuno con respecto al sol: \n",
      "\n",
      "['Mercurio', 'Venus', 'Tierra', 'Marte', 'Jupiter', 'Saturno']\n"
     ]
    }
   ],
   "source": [
    "print(f'Estos son los planetas mas cercanos de {planeta} con respecto al sol: \\n')\n",
    "print(planetas[0:indiceMostrar])"
   ]
  },
  {
   "cell_type": "markdown",
   "metadata": {},
   "source": [
    "### Mostrar planetas más alejados del sol que el que el usuario ingresó\n",
    "\n",
    "Puedes usar el mismo índice para mostrar planetas más alejados del sol. Sin embargo, recuerda que el índice inicial se incluye cuando usas un slice. Como resultado, tendrás que agregar 1 al valor. Agrega el código para mostrar los planetas más alejados del sol."
   ]
  },
  {
   "cell_type": "code",
   "execution_count": 9,
   "metadata": {},
   "outputs": [
    {
     "name": "stdout",
     "output_type": "stream",
     "text": [
      "Estos son los planetas mas lejanos de Neptuno con respecto al sol: \n",
      "\n",
      "[]\n"
     ]
    }
   ],
   "source": [
    "print(f'Estos son los planetas mas lejanos de {planeta} con respecto al sol: \\n')\n",
    "print(planetas[indiceMostrar + 1:])"
   ]
  }
 ],
 "metadata": {
  "interpreter": {
   "hash": "c90a5377e4e7b18b1ed37e4a9bbe686db6593397948242685e7b7d4c5415b59d"
  },
  "kernelspec": {
   "display_name": "Python 3.9.10 64-bit",
   "language": "python",
   "name": "python3"
  },
  "language_info": {
   "codemirror_mode": {
    "name": "ipython",
    "version": 3
   },
   "file_extension": ".py",
   "mimetype": "text/x-python",
   "name": "python",
   "nbconvert_exporter": "python",
   "pygments_lexer": "ipython3",
   "version": "3.9.10"
  },
  "orig_nbformat": 4
 },
 "nbformat": 4,
 "nbformat_minor": 2
}
