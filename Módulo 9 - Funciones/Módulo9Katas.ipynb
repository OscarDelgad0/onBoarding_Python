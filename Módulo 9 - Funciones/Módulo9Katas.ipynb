{
 "cells": [
  {
   "cell_type": "markdown",
   "metadata": {},
   "source": [
    "## Ejercicio: Uso de funciones en Python\n",
    "### Ejercicio 1: Trabajar con argumentos en funciones\n",
    "\n",
    "Comienza por crear una función que necesite tres lecturas de combustible y devuelva un informe:\n"
   ]
  },
  {
   "cell_type": "code",
   "execution_count": 26,
   "metadata": {},
   "outputs": [],
   "source": [
    "def tanques(tan1 = 0, tan2 = 0, tan3 = 0):\n",
    "    tanq_promedio = (tan1 + tan2 + tan3)/3  \n",
    "    return f\" Informe de tanques\\nCombustible promedio: {tanq_promedio}\\nTanque 1: {tan1}\\nTanque 2: {tan2}\\nTanque 3: {tan3}\"\n"
   ]
  },
  {
   "cell_type": "markdown",
   "metadata": {},
   "source": [
    "Ahora que hemos definido la función de informes, vamos a comprobarlo. Para esta misión, los tanques no están llenos:\n",
    "\n"
   ]
  },
  {
   "cell_type": "code",
   "execution_count": 27,
   "metadata": {},
   "outputs": [
    {
     "name": "stdout",
     "output_type": "stream",
     "text": [
      " Informe de tanques\n",
      "Combustible promedio: 2.0\n",
      "Tanque 1: 1\n",
      "Tanque 2: 2\n",
      "Tanque 3: 3\n"
     ]
    }
   ],
   "source": [
    "print(tanques(0, 0, 0))"
   ]
  },
  {
   "cell_type": "markdown",
   "metadata": {},
   "source": [
    "En lugar de simplemente crear el informe, la función también está calculando el promedio. Mejora la legibilidad extrayendo el cálculo promedio de la función en una nueva función para que el promedio se pueda hacer de forma independiente:"
   ]
  },
  {
   "cell_type": "code",
   "execution_count": 45,
   "metadata": {},
   "outputs": [],
   "source": [
    "def promedio(tan1, tan2, tan3):\n",
    "        total = (tan1 + tan2 + tan3)/3\n",
    "        return total\n"
   ]
  },
  {
   "cell_type": "markdown",
   "metadata": {},
   "source": [
    "Ahora actualiza la función de informes para llamando a la nueva función del promedio:"
   ]
  },
  {
   "cell_type": "code",
   "execution_count": 47,
   "metadata": {},
   "outputs": [
    {
     "name": "stdout",
     "output_type": "stream",
     "text": [
      " Informe de tanques\n",
      "Combustible promedio: 82.0\n",
      "Tanque 1: 80\n",
      "Tanque 2: 85\n",
      "Tanque 3: 81\n"
     ]
    }
   ],
   "source": [
    "def tanques(tan1, tan2, tan3):\n",
    "\n",
    "    return f' Informe de tanques\\nCombustible promedio: {promedio(tan1,tan2,tan3)}\\nTanque 1: {tan1}\\nTanque 2: {tan2}\\nTanque 3: {tan3}'\n",
    "\n",
    "informe = tanques(80,85,81)\n",
    "\n",
    "print(informe)"
   ]
  },
  {
   "cell_type": "markdown",
   "metadata": {},
   "source": [
    "## Ejercicio 2: Trabajo con argumentos de palabra clave\n",
    "### Ejercicio : Trabajar con argumentos de palabras clave en funciones"
   ]
  },
  {
   "cell_type": "code",
   "execution_count": 50,
   "metadata": {},
   "outputs": [
    {
     "name": "stdout",
     "output_type": "stream",
     "text": [
      "Informe de vuelo\n",
      "Hora de prelanzamiento: 14\n",
      "Tiempo de vuelo: 51\n",
      "Desitno: Moon\n",
      "Tanque Externo: 200000\n",
      "Tanque interno: 300000\n"
     ]
    }
   ],
   "source": [
    "def InformeDeVuelo(hrDezp, tVuelo, dest, tanExt, tanInt):\n",
    "    return f'Informe de vuelo\\nHora de prelanzamiento: {hrDezp}\\nTiempo de vuelo: {tVuelo}\\nDesitno: {dest}\\nTanque Externo: {tanExt}\\nTanque interno: {tanInt}'\n",
    "print(InformeDeVuelo(14, 51, \"Moon\", 200000, 300000))\n"
   ]
  },
  {
   "cell_type": "markdown",
   "metadata": {},
   "source": [
    "La función es problemática porque no se puede adaptar para minutos adicionales o tanques adicionales de combustible. Hazlo más flexible permitiendo cualquier número de pasos basados en el tiempo y cualquier número de tanques. En lugar de usar *args y **kwargs, aprovecha el hecho de que puedes usar cualquier nombre que desees. Asegurate que la función sea más legible mediante el uso de nombres de variables que están asociados con las entradas, como *minutes y **fuel_reservoirs"
   ]
  },
  {
   "cell_type": "code",
   "execution_count": 62,
   "metadata": {},
   "outputs": [
    {
     "name": "stdout",
     "output_type": "stream",
     "text": [
      "Informe de vuelo \n",
      "Destino: Moon\n",
      "Tiempo de vuelo: 65 hrs\n",
      "Total de combustible: 500000 lts\n"
     ]
    }
   ],
   "source": [
    "def InformeDeVuelo( dest, *tiempo, **tanques):\n",
    "    return f'Informe de vuelo \\nDestino: {dest}\\nTiempo de vuelo: {sum(tiempo)} hrs\\nTotal de combustible: {sum(tanques.values())} lts'\n",
    "print(InformeDeVuelo( \"Moon\", 14, 51, ext = 200000, int = 300000))"
   ]
  },
  {
   "cell_type": "markdown",
   "metadata": {},
   "source": [
    "Debido a que el combustible que queda en los tanques es específico de cada tanque, actualiza la función para usar el nombre de cada tanque en el informe:"
   ]
  },
  {
   "cell_type": "code",
   "execution_count": 78,
   "metadata": {},
   "outputs": [
    {
     "name": "stdout",
     "output_type": "stream",
     "text": [
      "Informe de vuelo \n",
      "Destino: Moon\n",
      "Tiempo de vuelo: 65 hrs\n",
      "Total de combustible: 500000 lts\n",
      "tanque_exterior : 200000\n",
      "tanque_interior : 300000\n"
     ]
    }
   ],
   "source": [
    "def InformeDeVuelo( dest, *tiempo, **tanques):\n",
    "\n",
    "    informe =  f'Informe de vuelo \\nDestino: {dest}\\nTiempo de vuelo: {sum(tiempo)} hrs\\nTotal de combustible: {sum(tanques.values())} lts'\n",
    "\n",
    "    for tanq, cant in tanques.items():\n",
    "\n",
    "       informe += f'\\n{tanq} : {cant}'\n",
    "        \n",
    "    return f'{informe}'\n",
    "\n",
    "    \n",
    "print(InformeDeVuelo( \"Moon\", 14, 51, tanque_exterior = 200000, tanque_interior = 300000))"
   ]
  }
 ],
 "metadata": {
  "interpreter": {
   "hash": "c90a5377e4e7b18b1ed37e4a9bbe686db6593397948242685e7b7d4c5415b59d"
  },
  "kernelspec": {
   "display_name": "Python 3.9.10 64-bit",
   "language": "python",
   "name": "python3"
  },
  "language_info": {
   "codemirror_mode": {
    "name": "ipython",
    "version": 3
   },
   "file_extension": ".py",
   "mimetype": "text/x-python",
   "name": "python",
   "nbconvert_exporter": "python",
   "pygments_lexer": "ipython3",
   "version": "3.9.10"
  },
  "orig_nbformat": 4
 },
 "nbformat": 4,
 "nbformat_minor": 2
}
