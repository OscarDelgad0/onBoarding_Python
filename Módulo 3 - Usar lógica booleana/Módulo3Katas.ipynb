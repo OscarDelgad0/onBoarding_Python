{
 "cells": [
  {
   "cell_type": "markdown",
   "metadata": {},
   "source": [
    "## Ejercicio - Escribir declaraciones if, else, y elif"
   ]
  },
  {
   "cell_type": "markdown",
   "metadata": {},
   "source": [
    "<style>\n",
    "\n",
    "a, em{text-decoration:none; font-style: normal; font-weight: bold;} \n",
    "\n",
    "em { color: tomato}\n",
    "a { color: \tlightskyblue}\n",
    "</style>\n",
    "\n",
    "Si un asteroide se acerca a la Tierra demasiado rápido. La velocidad del asteroide varía dependiendo de lo cerca que esté del sol, y cualquier velocidad superior a <a>25 kilómetros por segundo (km/s)</a>, merece una advertencia\n",
    "\n",
    "Un asteroide se acerca, y viaja a una velocidad de <em>49 km/s</em>."
   ]
  },
  {
   "cell_type": "code",
   "execution_count": 71,
   "metadata": {},
   "outputs": [
    {
     "name": "stdout",
     "output_type": "stream",
     "text": [
      "CUIDADO! velocidad peligrosa, un asteroide se acerca con velocidad de: 49 km/s\n"
     ]
    }
   ],
   "source": [
    "vel_ast = 49\n",
    "vel_seg = 25\n",
    "\n",
    "if vel_ast > vel_seg:\n",
    "    print(f'CUIDADO! velocidad peligrosa, un asteroide se acerca con velocidad de: {vel_ast} km/s')\n",
    "else:\n",
    "    print('No pasa nada por aqui...')"
   ]
  },
  {
   "cell_type": "markdown",
   "metadata": {},
   "source": [
    "<style>\n",
    "\n",
    "a, em{text-decoration:none; font-style: normal; font-weight: bold;} \n",
    "\n",
    "em { color: tomato}\n",
    "a { color: \tlightskyblue}\n",
    "</style>\n",
    "\n",
    "Si un asteroide entra en la atmósfera de la Tierra a una velocidad mayor o igual a <a>20 km/s</a>, a veces produce un rayo de luz que se puede ver desde la Tierra. Escribe la lógica condicional que usa declaraciones if, else, y elif para alertar a las personas de todo el mundo que deben buscar un asteroide en el cielo. ¡Hay uno que se dirige a la tierra ahora a una velocidad de <em>19 km/s!</em>"
   ]
  },
  {
   "cell_type": "code",
   "execution_count": 67,
   "metadata": {},
   "outputs": [
    {
     "name": "stdout",
     "output_type": "stream",
     "text": [
      "ATENCION TERRICOLAS! un asteroide en el cielo\n"
     ]
    }
   ],
   "source": [
    "rayo_luz = 20\n",
    "\n",
    "if vel_ast > rayo_luz:\n",
    "    print('ATENCION TERRICOLAS! un asteroide en el cielo')\n",
    "elif vel_ast == rayo_luz:\n",
    "      print('ATENCION TERRICOLAS! un asteroide en el cielo')\n",
    "else: \n",
    "    print('No pasa nada por aqui...')\n"
   ]
  },
  {
   "cell_type": "markdown",
   "metadata": {},
   "source": [
    "## Ejercicio: Uso de operadores and y or\n",
    "\n",
    "- Los asteroides de menos de 25 metros en su dimensión más grande probablemente se quemarán a medida que entren en la atmósfera de la Tierra.\n",
    "\n",
    "\n",
    "- Si una pieza de un asteroide que es más grande que 25 metros pero más pequeña que 1000 metros golpeara la Tierra, causaría mucho daño.\n",
    "\n",
    "\n",
    "- También discutimos en el ejercicio anterior que:\n",
    "\n",
    "\n",
    "La velocidad del asteroide varía en función de lo cerca que esté del sol, y cualquier velocidad superior a 25 kilómetros por segundo (km/s) merece una advertencia.\n",
    "Si un asteroide entra en la atmósfera de la Tierra a una velocidad mayor o igual a 20 km/s, a veces produce un rayo de luz que se puede ver desde la Tierra.\n",
    "\n"
   ]
  },
  {
   "cell_type": "code",
   "execution_count": 80,
   "metadata": {},
   "outputs": [
    {
     "name": "stdout",
     "output_type": "stream",
     "text": [
      "-Bip-bup- Mensaje para la tierra: Sin peligro\n"
     ]
    }
   ],
   "source": [
    "tam_ast = 25\n",
    "\n",
    "tam_seg = 25\n",
    "\n",
    "vel_ast = 19\n",
    "\n",
    "if vel_ast > vel_seg and tam_ast > tam_seg:\n",
    "    print(f'CUIDADO! velocidad y tamaño peligrosos, un asteroide se acerca con velocidad de: {vel_ast} km/s y {tam_ast} kilometros de largo')\n",
    "\n",
    "\n",
    "elif vel_ast > vel_seg:\n",
    "    print('Asteroide acercandose rapidamente... Posibles luces en el cielo')\n",
    "\n",
    "elif vel_ast >= rayo_luz:\n",
    "    print('Atencion! Luces sobre el cielo')\n",
    "\n",
    "else: \n",
    "    print('-Bip-bup- Mensaje para la tierra: Sin peligro')"
   ]
  }
 ],
 "metadata": {
  "interpreter": {
   "hash": "c90a5377e4e7b18b1ed37e4a9bbe686db6593397948242685e7b7d4c5415b59d"
  },
  "kernelspec": {
   "display_name": "Python 3.9.10 64-bit",
   "language": "python",
   "name": "python3"
  },
  "language_info": {
   "codemirror_mode": {
    "name": "ipython",
    "version": 3
   },
   "file_extension": ".py",
   "mimetype": "text/x-python",
   "name": "python",
   "nbconvert_exporter": "python",
   "pygments_lexer": "ipython3",
   "version": "3.9.10"
  },
  "orig_nbformat": 4
 },
 "nbformat": 4,
 "nbformat_minor": 2
}
